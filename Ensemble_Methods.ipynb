{
  "nbformat": 4,
  "nbformat_minor": 0,
  "metadata": {
    "colab": {
      "name": "Ensemble_Methods.ipynb",
      "provenance": [],
      "collapsed_sections": [
        "8EOKSmx6gGOq"
      ],
      "toc_visible": true
    },
    "kernelspec": {
      "name": "python3",
      "display_name": "Python 3"
    }
  },
  "cells": [
    {
      "cell_type": "markdown",
      "metadata": {
        "id": "oJjcGgj5lPEm",
        "colab_type": "text"
      },
      "source": [
        "# Notes on Ensemble Methods for ML\n"
      ]
    },
    {
      "cell_type": "markdown",
      "metadata": {
        "id": "otJM13K5lujz",
        "colab_type": "text"
      },
      "source": [
        "## Voting Classifiers"
      ]
    },
    {
      "cell_type": "markdown",
      "metadata": {
        "id": "rdnezOenmG2-",
        "colab_type": "text"
      },
      "source": [
        "\n",
        "\n",
        "*    A way to biuld better classifiers by aggregating the predictions of each classifier and predict the class that get most votes. This is a *Hard Voting Classifer*.\n",
        "\n",
        "\n",
        "\n"
      ]
    },
    {
      "cell_type": "markdown",
      "metadata": {
        "id": "rNQiVaTvmZTR",
        "colab_type": "text"
      },
      "source": [
        "\n",
        "\n",
        "*   Even if each classifier is a *weak learner*, the ensemble ca stil be a *strong learner*, i.e. achieving higher accuracy, provided there is a big enough number of weak learners and they are sufficiently diverse. \n",
        "*   This is due to the **Law of Large Numbers**\n",
        "\n"
      ]
    },
    {
      "cell_type": "markdown",
      "metadata": {
        "id": "85pIqxRonRYZ",
        "colab_type": "text"
      },
      "source": [
        "* **Note**: Ensemble Methods work best when predictors are as **independent** and **diverse** from one another as possible. One way to achieve this is to train classifiers using very different algorithms, increasing thus the chance to make different kind of errors and to improve ensemble accuracy."
      ]
    },
    {
      "cell_type": "markdown",
      "metadata": {
        "id": "brsqtkOVtFdj",
        "colab_type": "text"
      },
      "source": [
        "## Data Set"
      ]
    },
    {
      "cell_type": "markdown",
      "metadata": {
        "id": "IUJ7wI7FtJw2",
        "colab_type": "text"
      },
      "source": [
        "We'll use the *Moon* dataset:"
      ]
    },
    {
      "cell_type": "code",
      "metadata": {
        "id": "CoMjDLhrtQHJ",
        "colab_type": "code",
        "colab": {}
      },
      "source": [
        "from sklearn.datasets import make_moons"
      ],
      "execution_count": 6,
      "outputs": []
    },
    {
      "cell_type": "code",
      "metadata": {
        "id": "qJxmOBUbtQOT",
        "colab_type": "code",
        "colab": {
          "base_uri": "https://localhost:8080/",
          "height": 265
        },
        "outputId": "e50b0532-666f-4c7f-c637-13f657926ba9"
      },
      "source": [
        "import matplotlib.pyplot as plt\n",
        "\n",
        "X, y = make_moons(n_samples=1000, noise=0.2)\n",
        "\n",
        "plt.plot(X[:,0][(y==1)],X[:,1][(y==1)],'b.')\n",
        "plt.plot(X[:,0][(y==0)],X[:,1][(y==0)],'r.')\n",
        "plt.show()"
      ],
      "execution_count": 8,
      "outputs": [
        {
          "output_type": "display_data",
          "data": {
            "image/png": "[encoded data removed]",
            "text/plain": [
              "<Figure size 432x288 with 1 Axes>"
            ]
          },
          "metadata": {
            "tags": [],
            "needs_background": "light"
          }
        }
      ]
    },
    {
      "cell_type": "markdown",
      "metadata": {
        "id": "Vu-z2yT-tkz5",
        "colab_type": "text"
      },
      "source": [
        "We'll do the train/test split:"
      ]
    },
    {
      "cell_type": "code",
      "metadata": {
        "id": "k0uoJcG0tQVD",
        "colab_type": "code",
        "colab": {}
      },
      "source": [
        "from sklearn.model_selection import train_test_split\n",
        "\n",
        "X_train, X_test, y_train, y_test = train_test_split(X, y, test_size=0.2, random_state=42)"
      ],
      "execution_count": 10,
      "outputs": []
    },
    {
      "cell_type": "markdown",
      "metadata": {
        "id": "JGPzIk6vtwRE",
        "colab_type": "text"
      },
      "source": [
        "Now, we'll build the *Hard Voting Classifier*."
      ]
    },
    {
      "cell_type": "code",
      "metadata": {
        "id": "TimXRSQXlxR3",
        "colab_type": "code",
        "colab": {}
      },
      "source": [
        "from sklearn.ensemble import RandomForestClassifier\n",
        "from sklearn.ensemble import VotingClassifier\n",
        "from sklearn.linear_model import LogisticRegression\n",
        "from sklearn.svm import SVC"
      ],
      "execution_count": 3,
      "outputs": []
    },
    {
      "cell_type": "code",
      "metadata": {
        "id": "JdqeUOZtlxV9",
        "colab_type": "code",
        "colab": {}
      },
      "source": [
        "log_clf = LogisticRegression()\n",
        "rnd_clf = RandomForestClassifier()\n",
        "svm_clf = SVC()"
      ],
      "execution_count": 5,
      "outputs": []
    },
    {
      "cell_type": "code",
      "metadata": {
        "id": "GMURDRKklxnm",
        "colab_type": "code",
        "colab": {
          "base_uri": "https://localhost:8080/",
          "height": 493
        },
        "outputId": "057158a8-ccef-4810-f2a5-8ca9f2c2cdd4"
      },
      "source": [
        "voting_clf = VotingClassifier(\n",
        "    estimators = [('lr',log_clf),('rf',rnd_clf),('svc',svm_clf)],\n",
        "    voting = 'hard')\n",
        "voting_clf.fit(X_train,y_train)"
      ],
      "execution_count": 14,
      "outputs": [
        {
          "output_type": "execute_result",
          "data": {
            "text/plain": [
              "VotingClassifier(estimators=[('lr',\n",
              "                              LogisticRegression(C=1.0, class_weight=None,\n",
              "                                                 dual=False, fit_intercept=True,\n",
              "                                                 intercept_scaling=1,\n",
              "                                                 l1_ratio=None, max_iter=100,\n",
              "                                                 multi_class='auto',\n",
              "                                                 n_jobs=None, penalty='l2',\n",
              "                                                 random_state=None,\n",
              "                                                 solver='lbfgs', tol=0.0001,\n",
              "                                                 verbose=0, warm_start=False)),\n",
              "                             ('rf',\n",
              "                              RandomForestClassifier(bootstrap=True,\n",
              "                                                     ccp_alpha=0.0,\n",
              "                                                     class_weight=None,\n",
              "                                                     cr...\n",
              "                                                     oob_score=False,\n",
              "                                                     random_state=None,\n",
              "                                                     verbose=0,\n",
              "                                                     warm_start=False)),\n",
              "                             ('svc',\n",
              "                              SVC(C=1.0, break_ties=False, cache_size=200,\n",
              "                                  class_weight=None, coef0=0.0,\n",
              "                                  decision_function_shape='ovr', degree=3,\n",
              "                                  gamma='scale', kernel='rbf', max_iter=-1,\n",
              "                                  probability=False, random_state=None,\n",
              "                                  shrinking=True, tol=0.001, verbose=False))],\n",
              "                 flatten_transform=True, n_jobs=None, voting='hard',\n",
              "                 weights=None)"
            ]
          },
          "metadata": {
            "tags": []
          },
          "execution_count": 14
        }
      ]
    },
    {
      "cell_type": "markdown",
      "metadata": {
        "id": "YF5X3xeeueiT",
        "colab_type": "text"
      },
      "source": [
        "We compare each classifier:"
      ]
    },
    {
      "cell_type": "code",
      "metadata": {
        "id": "L8a2X4uAlxld",
        "colab_type": "code",
        "colab": {
          "base_uri": "https://localhost:8080/",
          "height": 85
        },
        "outputId": "84d08a04-84d9-408e-ab83-28e8adb21e52"
      },
      "source": [
        "from sklearn.metrics import accuracy_score\n",
        "\n",
        "for clf in (log_clf,rnd_clf,svm_clf,voting_clf):\n",
        "  clf.fit(X_train,y_train)\n",
        "  y_pred = clf.predict(X_test)\n",
        "  print(clf.__class__.__name__,accuracy_score(y_test,y_pred))\n"
      ],
      "execution_count": 16,
      "outputs": [
        {
          "output_type": "stream",
          "text": [
            "LogisticRegression 0.845\n",
            "RandomForestClassifier 0.935\n",
            "SVC 0.955\n",
            "VotingClassifier 0.95\n"
          ],
          "name": "stdout"
        }
      ]
    },
    {
      "cell_type": "code",
      "metadata": {
        "id": "-GP0UDBIlOEI",
        "colab_type": "code",
        "colab": {}
      },
      "source": [
        ""
      ],
      "execution_count": null,
      "outputs": []
    },
    {
      "cell_type": "markdown",
      "metadata": {
        "id": "PQEpDnyllDei",
        "colab_type": "text"
      },
      "source": [
        "## Bagging"
      ]
    },
    {
      "cell_type": "markdown",
      "metadata": {
        "id": "K4NnaYdsvLAZ",
        "colab_type": "text"
      },
      "source": [
        "* Another approach is to **use the same training algorithm for every predictor and train on different random subsets of the training set**\n",
        "* When the sampling is performed with repacement, the method is called **bagging** (i.e. boostrap aggregating). Bagging the allows training instances to be sampled several times for the same predictor.\n",
        "* When the sampling is performed without replacement, it is called **pasting.**"
      ]
    },
    {
      "cell_type": "markdown",
      "metadata": {
        "id": "8FgwctdNwbaj",
        "colab_type": "text"
      },
      "source": [
        "* Once the predictors are trained, the ensemble makes a prediction for a new instance by aggregating the predictions on all predictors. \n",
        "* The aggregating function is called **statistical mode** (i.e. the most frequent prediction, just like in a hard-vote classifier) for classification, or **average** for regression."
      ]
    },
    {
      "cell_type": "markdown",
      "metadata": {
        "id": "UpsIvFOzxKaE",
        "colab_type": "text"
      },
      "source": [
        "* Each individual predictor has a higher bias than if where trained on the original training set, but **aggregation reduces both bias and variance**.\n",
        "\n",
        "* Generally, **the ensemble has similar bias but lower variance** than a single predictor trained on the original training set."
      ]
    },
    {
      "cell_type": "code",
      "metadata": {
        "id": "cr9lzdZbjuit",
        "colab_type": "code",
        "colab": {}
      },
      "source": [
        "from sklearn.ensemble import BaggingClassifier\n",
        "from sklearn.tree import DecisionTreeClassifier"
      ],
      "execution_count": 17,
      "outputs": []
    },
    {
      "cell_type": "markdown",
      "metadata": {
        "id": "raKgz6F0yONF",
        "colab_type": "text"
      },
      "source": [
        "We train 500 Decision Tree Classifiers, each trained on 100 training instances randomly sampled fro the training set with replacement (bootstrap = True). The n_jobs parameter tells scikit_learn the number of CPU cores to use (-1 for all available cores.)"
      ]
    },
    {
      "cell_type": "code",
      "metadata": {
        "id": "29f9DVGYjuqS",
        "colab_type": "code",
        "colab": {}
      },
      "source": [
        "bag_clf = BaggingClassifier(\n",
        "    DecisionTreeClassifier(),n_estimators=500, ## 500 tree classifiers\n",
        "    max_samples=100,bootstrap=True,n_jobs=-1 ## 100 random instances. bootstrap = True: bagging. Otherwise: pasting\n",
        ")"
      ],
      "execution_count": 21,
      "outputs": []
    },
    {
      "cell_type": "code",
      "metadata": {
        "id": "xjUCHCXgjuvg",
        "colab_type": "code",
        "colab": {
          "base_uri": "https://localhost:8080/",
          "height": 306
        },
        "outputId": "1413b6a1-8c6f-4c64-c5bb-5357ef462524"
      },
      "source": [
        "bag_clf.fit(X_train,y_train)"
      ],
      "execution_count": 22,
      "outputs": [
        {
          "output_type": "execute_result",
          "data": {
            "text/plain": [
              "BaggingClassifier(base_estimator=DecisionTreeClassifier(ccp_alpha=0.0,\n",
              "                                                        class_weight=None,\n",
              "                                                        criterion='gini',\n",
              "                                                        max_depth=None,\n",
              "                                                        max_features=None,\n",
              "                                                        max_leaf_nodes=None,\n",
              "                                                        min_impurity_decrease=0.0,\n",
              "                                                        min_impurity_split=None,\n",
              "                                                        min_samples_leaf=1,\n",
              "                                                        min_samples_split=2,\n",
              "                                                        min_weight_fraction_leaf=0.0,\n",
              "                                                        presort='deprecated',\n",
              "                                                        random_state=None,\n",
              "                                                        splitter='best'),\n",
              "                  bootstrap=True, bootstrap_features=False, max_features=1.0,\n",
              "                  max_samples=100, n_estimators=500, n_jobs=-1, oob_score=False,\n",
              "                  random_state=None, verbose=0, warm_start=False)"
            ]
          },
          "metadata": {
            "tags": []
          },
          "execution_count": 22
        }
      ]
    },
    {
      "cell_type": "code",
      "metadata": {
        "id": "B-yHjScoju5x",
        "colab_type": "code",
        "colab": {
          "base_uri": "https://localhost:8080/",
          "height": 34
        },
        "outputId": "4c5dbad1-5d7c-417a-b523-28fb82dbd510"
      },
      "source": [
        "y_pred_train = bag_clf.predict(X_train)\n",
        "accuracy_score(y_train,y_pred_train)"
      ],
      "execution_count": 23,
      "outputs": [
        {
          "output_type": "execute_result",
          "data": {
            "text/plain": [
              "0.9675"
            ]
          },
          "metadata": {
            "tags": []
          },
          "execution_count": 23
        }
      ]
    },
    {
      "cell_type": "markdown",
      "metadata": {
        "id": "FFszLWzNzUlz",
        "colab_type": "text"
      },
      "source": [
        "**Note**: The ensemble will generalize better than a single tree. **The ensemble has a comprable bias but smaller variance** (it makes roughly the same number of errors on the training set, but the decision boundary is less irregular.)"
      ]
    },
    {
      "cell_type": "markdown",
      "metadata": {
        "id": "ZEFvswzOz9Ve",
        "colab_type": "text"
      },
      "source": [
        "**Bagging vs. Pasting**: Bootstraing introduces more diversity in the subsets that each predictor is trained on, so bagging has usually slightly higher bias than pasting, but less variance (the extra diversity means that predictors are less correlated)."
      ]
    },
    {
      "cell_type": "markdown",
      "metadata": {
        "id": "cHnwN5dOz80x",
        "colab_type": "text"
      },
      "source": [
        "## Out-of-Bag Evaluation"
      ]
    },
    {
      "cell_type": "markdown",
      "metadata": {
        "id": "cRIxbr5gGkAo",
        "colab_type": "text"
      },
      "source": [
        "* By default, a Bagging Classifier samples *m* training instances with replacement, where *m* is the size of the training set. This means that only around 63% of the training instances are sampled on average for each predictor. Note that they are not the same 37% for all predictors.  "
      ]
    },
    {
      "cell_type": "markdown",
      "metadata": {
        "id": "_O7_ZXXqHw4y",
        "colab_type": "text"
      },
      "source": [
        "* The remaining 37% training instances that are not sampled are called **out-of-bag** (oob) instances. \n",
        "* Since a predictor never sees the oob instances, they can be used for validation. "
      ]
    },
    {
      "cell_type": "code",
      "metadata": {
        "id": "keYwq4Hnju9i",
        "colab_type": "code",
        "colab": {}
      },
      "source": [
        "bag_clf = BaggingClassifier(\n",
        "    DecisionTreeClassifier(),\n",
        "    n_estimators=500, \n",
        "    bootstrap=True,n_jobs=-1,\n",
        "    oob_score = True,\n",
        "    max_samples = 100\n",
        ")"
      ],
      "execution_count": 34,
      "outputs": []
    },
    {
      "cell_type": "code",
      "metadata": {
        "id": "HqUG7HA-2tSX",
        "colab_type": "code",
        "colab": {
          "base_uri": "https://localhost:8080/",
          "height": 306
        },
        "outputId": "da59fb86-4311-4cd0-bc13-491c5b75e75e"
      },
      "source": [
        "bag_clf.fit(X_train,y_train)"
      ],
      "execution_count": 35,
      "outputs": [
        {
          "output_type": "execute_result",
          "data": {
            "text/plain": [
              "BaggingClassifier(base_estimator=DecisionTreeClassifier(ccp_alpha=0.0,\n",
              "                                                        class_weight=None,\n",
              "                                                        criterion='gini',\n",
              "                                                        max_depth=None,\n",
              "                                                        max_features=None,\n",
              "                                                        max_leaf_nodes=None,\n",
              "                                                        min_impurity_decrease=0.0,\n",
              "                                                        min_impurity_split=None,\n",
              "                                                        min_samples_leaf=1,\n",
              "                                                        min_samples_split=2,\n",
              "                                                        min_weight_fraction_leaf=0.0,\n",
              "                                                        presort='deprecated',\n",
              "                                                        random_state=None,\n",
              "                                                        splitter='best'),\n",
              "                  bootstrap=True, bootstrap_features=False, max_features=1.0,\n",
              "                  max_samples=100, n_estimators=500, n_jobs=-1, oob_score=True,\n",
              "                  random_state=None, verbose=0, warm_start=False)"
            ]
          },
          "metadata": {
            "tags": []
          },
          "execution_count": 35
        }
      ]
    },
    {
      "cell_type": "code",
      "metadata": {
        "id": "6qy8jt0z2tZh",
        "colab_type": "code",
        "colab": {
          "base_uri": "https://localhost:8080/",
          "height": 34
        },
        "outputId": "2a49b4bc-e0e0-4922-f73e-85ab481840f7"
      },
      "source": [
        "y_pred_train = bag_clf.predict(X_train)\n",
        "accuracy_score(y_train,y_pred_train)"
      ],
      "execution_count": 36,
      "outputs": [
        {
          "output_type": "execute_result",
          "data": {
            "text/plain": [
              "0.96625"
            ]
          },
          "metadata": {
            "tags": []
          },
          "execution_count": 36
        }
      ]
    },
    {
      "cell_type": "code",
      "metadata": {
        "id": "c1PUlsjS2tim",
        "colab_type": "code",
        "colab": {
          "base_uri": "https://localhost:8080/",
          "height": 34
        },
        "outputId": "2ffc1453-c76f-47f1-b342-a8123edb837e"
      },
      "source": [
        "bag_clf.oob_score_\n",
        "# We should get close to this accuracy on the testing set.  "
      ],
      "execution_count": 37,
      "outputs": [
        {
          "output_type": "execute_result",
          "data": {
            "text/plain": [
              "0.9625"
            ]
          },
          "metadata": {
            "tags": []
          },
          "execution_count": 37
        }
      ]
    },
    {
      "cell_type": "code",
      "metadata": {
        "id": "inMZQdAO2thJ",
        "colab_type": "code",
        "colab": {
          "base_uri": "https://localhost:8080/",
          "height": 34
        },
        "outputId": "0877e52b-7479-4428-c760-bc9c289fd46f"
      },
      "source": [
        "from sklearn.metrics import accuracy_score\n",
        "y_pred = bag_clf.predict(X_test)\n",
        "accuracy_score(y_test,y_pred)\n",
        "# Close enough"
      ],
      "execution_count": 38,
      "outputs": [
        {
          "output_type": "execute_result",
          "data": {
            "text/plain": [
              "0.955"
            ]
          },
          "metadata": {
            "tags": []
          },
          "execution_count": 38
        }
      ]
    },
    {
      "cell_type": "markdown",
      "metadata": {
        "id": "k3nkPvDpQQeB",
        "colab_type": "text"
      },
      "source": [
        "The oob decision function is available. We will get the class probabilities for each instance:"
      ]
    },
    {
      "cell_type": "code",
      "metadata": {
        "id": "uOxK97EO2tem",
        "colab_type": "code",
        "colab": {
          "base_uri": "https://localhost:8080/",
          "height": 136
        },
        "outputId": "371409f7-d6fc-42d2-9e4c-da50d6630f45"
      },
      "source": [
        "bag_clf.oob_decision_function_"
      ],
      "execution_count": 39,
      "outputs": [
        {
          "output_type": "execute_result",
          "data": {
            "text/plain": [
              "array([[0.02921348, 0.97078652],\n",
              "       [0.99771167, 0.00228833],\n",
              "       [0.76267281, 0.23732719],\n",
              "       ...,\n",
              "       [0.98177677, 0.01822323],\n",
              "       [0.98657718, 0.01342282],\n",
              "       [0.01382488, 0.98617512]])"
            ]
          },
          "metadata": {
            "tags": []
          },
          "execution_count": 39
        }
      ]
    },
    {
      "cell_type": "markdown",
      "metadata": {
        "id": "rAFz2s-kQlej",
        "colab_type": "text"
      },
      "source": [
        "So, the first instace has a 3% probability of belonging to the negative class, and a 97% of belonging to the positive class."
      ]
    },
    {
      "cell_type": "markdown",
      "metadata": {
        "id": "p3Hz-sboR0UF",
        "colab_type": "text"
      },
      "source": [
        "##  Random Forests"
      ]
    },
    {
      "cell_type": "markdown",
      "metadata": {
        "id": "IhpV1HSCSQ6T",
        "colab_type": "text"
      },
      "source": [
        "A Random Forest Classifier is an ensemble of Decision Trees, usually trained using the bagging method, typically with max_samples set to the size of the training set. "
      ]
    },
    {
      "cell_type": "code",
      "metadata": {
        "id": "QQ_Gfv0j2tXe",
        "colab_type": "code",
        "colab": {}
      },
      "source": [
        "from sklearn.ensemble import RandomForestClassifier"
      ],
      "execution_count": 40,
      "outputs": []
    },
    {
      "cell_type": "code",
      "metadata": {
        "id": "nTNC9rG_2tU1",
        "colab_type": "code",
        "colab": {}
      },
      "source": [
        "rnd_clf = RandomForestClassifier(n_estimators=500, # 500 trees\n",
        "                                 max_leaf_nodes = 16, # Each tree is limited to 16 nodes\n",
        "                                 n_jobs = -1)"
      ],
      "execution_count": 42,
      "outputs": []
    },
    {
      "cell_type": "code",
      "metadata": {
        "id": "YCzspzgUUh4W",
        "colab_type": "code",
        "colab": {
          "base_uri": "https://localhost:8080/",
          "height": 153
        },
        "outputId": "5cfd9c68-f16f-43d2-af37-72a329331dce"
      },
      "source": [
        "rnd_clf.fit(X_train,y_train)"
      ],
      "execution_count": 43,
      "outputs": [
        {
          "output_type": "execute_result",
          "data": {
            "text/plain": [
              "RandomForestClassifier(bootstrap=True, ccp_alpha=0.0, class_weight=None,\n",
              "                       criterion='gini', max_depth=None, max_features='auto',\n",
              "                       max_leaf_nodes=16, max_samples=None,\n",
              "                       min_impurity_decrease=0.0, min_impurity_split=None,\n",
              "                       min_samples_leaf=1, min_samples_split=2,\n",
              "                       min_weight_fraction_leaf=0.0, n_estimators=500,\n",
              "                       n_jobs=-1, oob_score=False, random_state=None, verbose=0,\n",
              "                       warm_start=False)"
            ]
          },
          "metadata": {
            "tags": []
          },
          "execution_count": 43
        }
      ]
    },
    {
      "cell_type": "code",
      "metadata": {
        "id": "3oZhGDLWUiFQ",
        "colab_type": "code",
        "colab": {
          "base_uri": "https://localhost:8080/",
          "height": 34
        },
        "outputId": "17f346a8-bce4-4e7a-fc70-eaf33dd61f50"
      },
      "source": [
        "y_pred = rnd_clf.predict(X_test)\n",
        "accuracy_score(y_test,y_pred)"
      ],
      "execution_count": 46,
      "outputs": [
        {
          "output_type": "execute_result",
          "data": {
            "text/plain": [
              "0.94"
            ]
          },
          "metadata": {
            "tags": []
          },
          "execution_count": 46
        }
      ]
    },
    {
      "cell_type": "markdown",
      "metadata": {
        "id": "YtxpS_8VVW8G",
        "colab_type": "text"
      },
      "source": [
        "* The Random Forest algorithm results in greater tree diversity, which trades a higher bias for a lowe variance, giving an overall better model. \n",
        "\n",
        "The following Bagging Classifier is roughly equivalent:"
      ]
    },
    {
      "cell_type": "code",
      "metadata": {
        "id": "pjHE143nUiEA",
        "colab_type": "code",
        "colab": {}
      },
      "source": [
        "bag_clf = BaggingClassifier(DecisionTreeClassifier(splitter= 'random',max_leaf_nodes=16),\n",
        "                            n_estimators = 500, max_samples = 1.0, bootstrap = True,n_jobs = -1)"
      ],
      "execution_count": 47,
      "outputs": []
    },
    {
      "cell_type": "code",
      "metadata": {
        "id": "7UHJrsMUUiCO",
        "colab_type": "code",
        "colab": {
          "base_uri": "https://localhost:8080/",
          "height": 306
        },
        "outputId": "46116a9a-9ed7-4e28-c76f-3b7a2000c37c"
      },
      "source": [
        "bag_clf.fit(X_train,y_train)"
      ],
      "execution_count": 48,
      "outputs": [
        {
          "output_type": "execute_result",
          "data": {
            "text/plain": [
              "BaggingClassifier(base_estimator=DecisionTreeClassifier(ccp_alpha=0.0,\n",
              "                                                        class_weight=None,\n",
              "                                                        criterion='gini',\n",
              "                                                        max_depth=None,\n",
              "                                                        max_features=None,\n",
              "                                                        max_leaf_nodes=16,\n",
              "                                                        min_impurity_decrease=0.0,\n",
              "                                                        min_impurity_split=None,\n",
              "                                                        min_samples_leaf=1,\n",
              "                                                        min_samples_split=2,\n",
              "                                                        min_weight_fraction_leaf=0.0,\n",
              "                                                        presort='deprecated',\n",
              "                                                        random_state=None,\n",
              "                                                        splitter='random'),\n",
              "                  bootstrap=True, bootstrap_features=False, max_features=1.0,\n",
              "                  max_samples=1.0, n_estimators=500, n_jobs=-1, oob_score=False,\n",
              "                  random_state=None, verbose=0, warm_start=False)"
            ]
          },
          "metadata": {
            "tags": []
          },
          "execution_count": 48
        }
      ]
    },
    {
      "cell_type": "code",
      "metadata": {
        "id": "sUTEd2lqUh_8",
        "colab_type": "code",
        "colab": {
          "base_uri": "https://localhost:8080/",
          "height": 34
        },
        "outputId": "07ad750f-ebf0-4374-d1cb-2452df95d1c7"
      },
      "source": [
        "y_pred = bag_clf.predict(X_test)\n",
        "accuracy_score(y_test,y_pred)"
      ],
      "execution_count": 49,
      "outputs": [
        {
          "output_type": "execute_result",
          "data": {
            "text/plain": [
              "0.945"
            ]
          },
          "metadata": {
            "tags": []
          },
          "execution_count": 49
        }
      ]
    },
    {
      "cell_type": "markdown",
      "metadata": {
        "id": "SihQ1XyyW6sc",
        "colab_type": "text"
      },
      "source": [
        "## Boosting"
      ]
    },
    {
      "cell_type": "markdown",
      "metadata": {
        "id": "oaU_NQGJXCjB",
        "colab_type": "text"
      },
      "source": [
        "* The main idea is to **train predictors sequentially, each trying to correct its predecessor**. "
      ]
    },
    {
      "cell_type": "markdown",
      "metadata": {
        "id": "HkXrxV8JXV7y",
        "colab_type": "text"
      },
      "source": [
        "### AdaBoost"
      ]
    },
    {
      "cell_type": "markdown",
      "metadata": {
        "id": "app_J4rQX2aB",
        "colab_type": "text"
      },
      "source": [
        "* **AdaBoost** has each new predictor focusing on correcting its predecessor by pay attention on the training instances that the predecessor underfitted. This results in new predictors focusing more and more on the hard cases. \n",
        "\n",
        "* The algorithm first trains a base classifier and uses it to make predictions on the training set. The algorithm then increases the relative weight of miscalssified training instances. Then it trains a second classifier, using the updated weights, and again makes predictions on the training set, updated the weights, and so on. \n",
        "\n",
        "* Onde all predictors are trained, the ensemble makes predictions very much like bagging, except that predictors have different weights depending on their overall accuracy on the weighted trained set. "
      ]
    },
    {
      "cell_type": "code",
      "metadata": {
        "id": "sLMzk1EyW5wo",
        "colab_type": "code",
        "colab": {}
      },
      "source": [
        "from sklearn.ensemble import AdaBoostClassifier"
      ],
      "execution_count": 50,
      "outputs": []
    },
    {
      "cell_type": "code",
      "metadata": {
        "id": "a-a5LG5-Uh7i",
        "colab_type": "code",
        "colab": {
          "base_uri": "https://localhost:8080/",
          "height": 289
        },
        "outputId": "84be0178-2064-471d-f7f2-429ec852ea8c"
      },
      "source": [
        "ada_clf = AdaBoostClassifier(DecisionTreeClassifier(max_depth=1),n_estimators=200,\n",
        "                             algorithm = 'SAMME.R', learning_rate = 0.5)\n",
        "ada_clf.fit(X_train, y_train)"
      ],
      "execution_count": 51,
      "outputs": [
        {
          "output_type": "execute_result",
          "data": {
            "text/plain": [
              "AdaBoostClassifier(algorithm='SAMME.R',\n",
              "                   base_estimator=DecisionTreeClassifier(ccp_alpha=0.0,\n",
              "                                                         class_weight=None,\n",
              "                                                         criterion='gini',\n",
              "                                                         max_depth=1,\n",
              "                                                         max_features=None,\n",
              "                                                         max_leaf_nodes=None,\n",
              "                                                         min_impurity_decrease=0.0,\n",
              "                                                         min_impurity_split=None,\n",
              "                                                         min_samples_leaf=1,\n",
              "                                                         min_samples_split=2,\n",
              "                                                         min_weight_fraction_leaf=0.0,\n",
              "                                                         presort='deprecated',\n",
              "                                                         random_state=None,\n",
              "                                                         splitter='best'),\n",
              "                   learning_rate=0.5, n_estimators=200, random_state=None)"
            ]
          },
          "metadata": {
            "tags": []
          },
          "execution_count": 51
        }
      ]
    },
    {
      "cell_type": "code",
      "metadata": {
        "id": "rx3XGcO1ju3S",
        "colab_type": "code",
        "colab": {
          "base_uri": "https://localhost:8080/",
          "height": 34
        },
        "outputId": "5fb1de62-d6fe-4ea2-94f0-f9df44fc27b0"
      },
      "source": [
        "y_pred = ada_clf.predict(X_test)\n",
        "accuracy_score(y_test,y_pred)"
      ],
      "execution_count": 52,
      "outputs": [
        {
          "output_type": "execute_result",
          "data": {
            "text/plain": [
              "0.925"
            ]
          },
          "metadata": {
            "tags": []
          },
          "execution_count": 52
        }
      ]
    },
    {
      "cell_type": "markdown",
      "metadata": {
        "id": "twiblRthaAw2",
        "colab_type": "text"
      },
      "source": [
        "### Gradient Boosting"
      ]
    },
    {
      "cell_type": "markdown",
      "metadata": {
        "id": "wNFMXlSGaEUZ",
        "colab_type": "text"
      },
      "source": [
        "* This algorith also works sequentially adding predictors, each one correcting its predecessor. However, instead of tweaking the instance weights at every iteration, this method tries to fit the new predictor to the **residual errors** made by the previous predictors.\n",
        "\n",
        "We do a simple example on this, using Decision Trees as base predictors and a noisy quadratic  training set:"
      ]
    },
    {
      "cell_type": "markdown",
      "metadata": {
        "id": "CogIF5q3fkoX",
        "colab_type": "text"
      },
      "source": [
        "#### Noisy Quadratic Dataset"
      ]
    },
    {
      "cell_type": "code",
      "metadata": {
        "id": "RBrQqwmNa8PP",
        "colab_type": "code",
        "colab": {
          "base_uri": "https://localhost:8080/",
          "height": 265
        },
        "outputId": "606b97fa-eb24-4966-a12a-7f79d78f1771"
      },
      "source": [
        "import numpy as np\n",
        "\n",
        "m=200\n",
        "X = 6 * np.random.rand(m,1) - 3\n",
        "y = X**2 + np.random.randn(m,1)\n",
        "\n",
        "plt.plot(X,y,'b.')\n",
        "plt.show()"
      ],
      "execution_count": 54,
      "outputs": [
        {
          "output_type": "display_data",
          "data": {
            "image/png": "[encoded data removed]",
            "text/plain": [
              "<Figure size 432x288 with 1 Axes>"
            ]
          },
          "metadata": {
            "tags": [],
            "needs_background": "light"
          }
        }
      ]
    },
    {
      "cell_type": "markdown",
      "metadata": {
        "id": "8EOKSmx6gGOq",
        "colab_type": "text"
      },
      "source": [
        "#### Basic Illustration"
      ]
    },
    {
      "cell_type": "code",
      "metadata": {
        "id": "S3jOxnm-gFuG",
        "colab_type": "code",
        "colab": {}
      },
      "source": [
        "from sklearn.tree import DecisionTreeRegressor"
      ],
      "execution_count": 55,
      "outputs": []
    },
    {
      "cell_type": "code",
      "metadata": {
        "id": "jzPxoIbMa8fd",
        "colab_type": "code",
        "colab": {
          "base_uri": "https://localhost:8080/",
          "height": 119
        },
        "outputId": "05b96cf7-6020-4c2c-89c9-def5806dfad1"
      },
      "source": [
        "tree_reg1 = DecisionTreeRegressor(max_depth = 2)\n",
        "tree_reg1.fit(X,y)"
      ],
      "execution_count": 56,
      "outputs": [
        {
          "output_type": "execute_result",
          "data": {
            "text/plain": [
              "DecisionTreeRegressor(ccp_alpha=0.0, criterion='mse', max_depth=2,\n",
              "                      max_features=None, max_leaf_nodes=None,\n",
              "                      min_impurity_decrease=0.0, min_impurity_split=None,\n",
              "                      min_samples_leaf=1, min_samples_split=2,\n",
              "                      min_weight_fraction_leaf=0.0, presort='deprecated',\n",
              "                      random_state=None, splitter='best')"
            ]
          },
          "metadata": {
            "tags": []
          },
          "execution_count": 56
        }
      ]
    },
    {
      "cell_type": "markdown",
      "metadata": {
        "id": "Cu6lmZ4xgz73",
        "colab_type": "text"
      },
      "source": [
        "We now train a second regressor on the residual errors made by the first predictor:"
      ]
    },
    {
      "cell_type": "code",
      "metadata": {
        "id": "xqKZMWzva8di",
        "colab_type": "code",
        "colab": {
          "base_uri": "https://localhost:8080/",
          "height": 119
        },
        "outputId": "e54b4fa6-27c2-4150-f2c5-66ce164d31f7"
      },
      "source": [
        "y2 = y - tree_reg1.predict(X)\n",
        "tree_reg2 = DecisionTreeRegressor(max_depth=2)\n",
        "tree_reg2.fit(X,y2)"
      ],
      "execution_count": 57,
      "outputs": [
        {
          "output_type": "execute_result",
          "data": {
            "text/plain": [
              "DecisionTreeRegressor(ccp_alpha=0.0, criterion='mse', max_depth=2,\n",
              "                      max_features=None, max_leaf_nodes=None,\n",
              "                      min_impurity_decrease=0.0, min_impurity_split=None,\n",
              "                      min_samples_leaf=1, min_samples_split=2,\n",
              "                      min_weight_fraction_leaf=0.0, presort='deprecated',\n",
              "                      random_state=None, splitter='best')"
            ]
          },
          "metadata": {
            "tags": []
          },
          "execution_count": 57
        }
      ]
    },
    {
      "cell_type": "code",
      "metadata": {
        "id": "uhGONRKza8bk",
        "colab_type": "code",
        "colab": {
          "base_uri": "https://localhost:8080/",
          "height": 119
        },
        "outputId": "d51a2b6a-0dbd-4498-8bf5-b93454c1de58"
      },
      "source": [
        "y3 = y2 - tree_reg2.predict(X)\n",
        "tree_reg3 = DecisionTreeRegressor(max_depth=2)\n",
        "tree_reg3.fit(X,y3)"
      ],
      "execution_count": 58,
      "outputs": [
        {
          "output_type": "execute_result",
          "data": {
            "text/plain": [
              "DecisionTreeRegressor(ccp_alpha=0.0, criterion='mse', max_depth=2,\n",
              "                      max_features=None, max_leaf_nodes=None,\n",
              "                      min_impurity_decrease=0.0, min_impurity_split=None,\n",
              "                      min_samples_leaf=1, min_samples_split=2,\n",
              "                      min_weight_fraction_leaf=0.0, presort='deprecated',\n",
              "                      random_state=None, splitter='best')"
            ]
          },
          "metadata": {
            "tags": []
          },
          "execution_count": 58
        }
      ]
    },
    {
      "cell_type": "code",
      "metadata": {
        "id": "croyjckDa8Xw",
        "colab_type": "code",
        "colab": {}
      },
      "source": [
        "X_new = 6 * np.random.rand(m,1) - 3\n",
        "y_new = X_new**2 + np.random.randn(m,1)\n",
        "y_pred = sum(tree.predict(X_new) for tree in (tree_reg1, tree_reg2, tree_reg3))"
      ],
      "execution_count": 64,
      "outputs": []
    },
    {
      "cell_type": "markdown",
      "metadata": {
        "id": "oNULp_2qjpVd",
        "colab_type": "text"
      },
      "source": [
        "#### Example"
      ]
    },
    {
      "cell_type": "code",
      "metadata": {
        "id": "ZfYqOwqGa8Nt",
        "colab_type": "code",
        "colab": {}
      },
      "source": [
        "import numpy as np\n",
        "from sklearn.model_selection import train_test_split\n",
        "from sklearn.metrics import mean_squared_error\n",
        "from sklearn.ensemble import GradientBoostingRegressor"
      ],
      "execution_count": 68,
      "outputs": []
    },
    {
      "cell_type": "code",
      "metadata": {
        "id": "hEbCGvvaa8KF",
        "colab_type": "code",
        "colab": {}
      },
      "source": [
        "X_train, X_val, y_train, y_val = train_test_split(X,y)"
      ],
      "execution_count": 67,
      "outputs": []
    },
    {
      "cell_type": "markdown",
      "metadata": {
        "id": "-GBPwaXurtp4",
        "colab_type": "text"
      },
      "source": [
        "* The Regressor has a learning rate hyperparamter. If one sets it to a low value, you will need more trees in the ensemble to fit the training set, but the predictions wil be better. **This is a regularization techinique calle Shrinkage.**\n",
        "* In order to find the optimal number of trees, one can used the staged_predict method: it returns an iterator over the predictions made by the ensemble at each stage of the training. We start with 120 trees.\n",
        "* This is an example of **Early Stopping**.\n",
        "\n"
      ]
    },
    {
      "cell_type": "code",
      "metadata": {
        "id": "BJt5lmzijuy0",
        "colab_type": "code",
        "colab": {
          "base_uri": "https://localhost:8080/",
          "height": 224
        },
        "outputId": "4f5396e0-c0eb-4bf9-9374-a32561d0262b"
      },
      "source": [
        "gbrt = GradientBoostingRegressor(max_depth=2, n_estimators=120)\n",
        "gbrt.fit(X_train,y_train)"
      ],
      "execution_count": 69,
      "outputs": [
        {
          "output_type": "stream",
          "text": [
            "/usr/local/lib/python3.6/dist-packages/sklearn/ensemble/_gb.py:1454: DataConversionWarning: A column-vector y was passed when a 1d array was expected. Please change the shape of y to (n_samples, ), for example using ravel().\n",
            "  y = column_or_1d(y, warn=True)\n"
          ],
          "name": "stderr"
        },
        {
          "output_type": "execute_result",
          "data": {
            "text/plain": [
              "GradientBoostingRegressor(alpha=0.9, ccp_alpha=0.0, criterion='friedman_mse',\n",
              "                          init=None, learning_rate=0.1, loss='ls', max_depth=2,\n",
              "                          max_features=None, max_leaf_nodes=None,\n",
              "                          min_impurity_decrease=0.0, min_impurity_split=None,\n",
              "                          min_samples_leaf=1, min_samples_split=2,\n",
              "                          min_weight_fraction_leaf=0.0, n_estimators=120,\n",
              "                          n_iter_no_change=None, presort='deprecated',\n",
              "                          random_state=None, subsample=1.0, tol=0.0001,\n",
              "                          validation_fraction=0.1, verbose=0, warm_start=False)"
            ]
          },
          "metadata": {
            "tags": []
          },
          "execution_count": 69
        }
      ]
    },
    {
      "cell_type": "markdown",
      "metadata": {
        "id": "sz1C75VNtCKI",
        "colab_type": "text"
      },
      "source": [
        "We now get the error for each stage:"
      ]
    },
    {
      "cell_type": "code",
      "metadata": {
        "id": "LuKWF4z7jutc",
        "colab_type": "code",
        "colab": {}
      },
      "source": [
        "errors = [mean_squared_error(y_val,y_pred) for y_pred in gbrt.staged_predict(X_val)]\n",
        "best_n_estimators = np.argmin(errors) + 1"
      ],
      "execution_count": 76,
      "outputs": []
    },
    {
      "cell_type": "markdown",
      "metadata": {
        "id": "-8Q7E7KdtK0b",
        "colab_type": "text"
      },
      "source": [
        "And this will Regressor will have the lowest error:"
      ]
    },
    {
      "cell_type": "code",
      "metadata": {
        "id": "TvVOaOY8tAkS",
        "colab_type": "code",
        "colab": {
          "base_uri": "https://localhost:8080/",
          "height": 224
        },
        "outputId": "ce4b72c9-bf62-427d-99ce-a0ae43bbc7ad"
      },
      "source": [
        "gbrt_best = GradientBoostingRegressor(max_depth=2, n_estimators=best_n_estimators)\n",
        "gbrt_best.fit(X_train,y_train)"
      ],
      "execution_count": 77,
      "outputs": [
        {
          "output_type": "stream",
          "text": [
            "/usr/local/lib/python3.6/dist-packages/sklearn/ensemble/_gb.py:1454: DataConversionWarning: A column-vector y was passed when a 1d array was expected. Please change the shape of y to (n_samples, ), for example using ravel().\n",
            "  y = column_or_1d(y, warn=True)\n"
          ],
          "name": "stderr"
        },
        {
          "output_type": "execute_result",
          "data": {
            "text/plain": [
              "GradientBoostingRegressor(alpha=0.9, ccp_alpha=0.0, criterion='friedman_mse',\n",
              "                          init=None, learning_rate=0.1, loss='ls', max_depth=2,\n",
              "                          max_features=None, max_leaf_nodes=None,\n",
              "                          min_impurity_decrease=0.0, min_impurity_split=None,\n",
              "                          min_samples_leaf=1, min_samples_split=2,\n",
              "                          min_weight_fraction_leaf=0.0, n_estimators=36,\n",
              "                          n_iter_no_change=None, presort='deprecated',\n",
              "                          random_state=None, subsample=1.0, tol=0.0001,\n",
              "                          validation_fraction=0.1, verbose=0, warm_start=False)"
            ]
          },
          "metadata": {
            "tags": []
          },
          "execution_count": 77
        }
      ]
    },
    {
      "cell_type": "code",
      "metadata": {
        "id": "Z69I-smnsuoa",
        "colab_type": "code",
        "colab": {
          "base_uri": "https://localhost:8080/",
          "height": 283
        },
        "outputId": "1319ffec-f876-4f73-f4f6-fb89cef08620"
      },
      "source": [
        "plt.plot(errors,'b.')\n",
        "plt.ylim([0,3])\n",
        "plt.axvline(best_n_estimators,color = 'r',ls = '--')\n",
        "plt.xlabel('Number or Trees')\n",
        "plt.ylabel('Error')\n",
        "plt.show()"
      ],
      "execution_count": 79,
      "outputs": [
        {
          "output_type": "display_data",
          "data": {
            "image/png": "[encoded data removed]",
            "text/plain": [
              "<Figure size 432x288 with 1 Axes>"
            ]
          },
          "metadata": {
            "tags": [],
            "needs_background": "light"
          }
        }
      ]
    },
    {
      "cell_type": "markdown",
      "metadata": {
        "id": "pILiKGrAtlmz",
        "colab_type": "text"
      },
      "source": [
        "The best regressor has 36 trees:"
      ]
    },
    {
      "cell_type": "code",
      "metadata": {
        "id": "ymSuURK_juoH",
        "colab_type": "code",
        "colab": {
          "base_uri": "https://localhost:8080/",
          "height": 34
        },
        "outputId": "4e2236bf-aee1-41d7-d827-2afb2a91c0b3"
      },
      "source": [
        "best_n_estimators"
      ],
      "execution_count": 80,
      "outputs": [
        {
          "output_type": "execute_result",
          "data": {
            "text/plain": [
              "36"
            ]
          },
          "metadata": {
            "tags": []
          },
          "execution_count": 80
        }
      ]
    },
    {
      "cell_type": "markdown",
      "metadata": {
        "id": "-0ussjBbt3b0",
        "colab_type": "text"
      },
      "source": [
        "How does the prediction looks?"
      ]
    },
    {
      "cell_type": "code",
      "metadata": {
        "id": "242W4_Lsn2vr",
        "colab_type": "code",
        "colab": {}
      },
      "source": [
        "y_pred_train = gbrt_best.predict(X_train)"
      ],
      "execution_count": 82,
      "outputs": []
    },
    {
      "cell_type": "code",
      "metadata": {
        "id": "opdtlGQin21u",
        "colab_type": "code",
        "colab": {
          "base_uri": "https://localhost:8080/",
          "height": 265
        },
        "outputId": "68c6f540-cf48-408d-f1e5-0e43e4c34c8c"
      },
      "source": [
        "plt.plot(X_train,y_train,'b.')\n",
        "plt.plot(X_train,y_pred_train,'r.')\n",
        "plt.show()"
      ],
      "execution_count": 83,
      "outputs": [
        {
          "output_type": "display_data",
          "data": {
            "image/png": "[encoded data removed]",
            "text/plain": [
              "<Figure size 432x288 with 1 Axes>"
            ]
          },
          "metadata": {
            "tags": [],
            "needs_background": "light"
          }
        }
      ]
    },
    {
      "cell_type": "markdown",
      "metadata": {
        "id": "iOxsWjT9uNY-",
        "colab_type": "text"
      },
      "source": [
        "So the model generalizes well."
      ]
    },
    {
      "cell_type": "markdown",
      "metadata": {
        "id": "3XD69C5VuXd4",
        "colab_type": "text"
      },
      "source": [
        "### XGBoost"
      ]
    },
    {
      "cell_type": "code",
      "metadata": {
        "id": "Tt4zTod6n2zu",
        "colab_type": "code",
        "colab": {}
      },
      "source": [
        "import xgboost"
      ],
      "execution_count": 84,
      "outputs": []
    },
    {
      "cell_type": "code",
      "metadata": {
        "id": "URLmFExQn2tX",
        "colab_type": "code",
        "colab": {
          "base_uri": "https://localhost:8080/",
          "height": 54
        },
        "outputId": "a03fca65-e95a-411a-9b2f-a3a19fbe3473"
      },
      "source": [
        "xgb_reg = xgboost.XGBRegressor()\n",
        "xgb_reg.fit(X_train,y_train)\n",
        "y_pred = xgb_reg.predict(X_train)"
      ],
      "execution_count": 88,
      "outputs": [
        {
          "output_type": "stream",
          "text": [
            "[06:35:11] WARNING: /workspace/src/objective/regression_obj.cu:152: reg:linear is now deprecated in favor of reg:squarederror.\n"
          ],
          "name": "stdout"
        }
      ]
    },
    {
      "cell_type": "code",
      "metadata": {
        "id": "kE8q6lRKn2qz",
        "colab_type": "code",
        "colab": {
          "base_uri": "https://localhost:8080/",
          "height": 265
        },
        "outputId": "b7323240-95d9-45e8-8cab-fcd9e443358e"
      },
      "source": [
        "plt.plot(X_train,y_train,'b.')\n",
        "plt.plot(X_train,y_pred,'r.')\n",
        "plt.show()"
      ],
      "execution_count": 89,
      "outputs": [
        {
          "output_type": "display_data",
          "data": {
            "image/png": "[encoded data removed]",
            "text/plain": [
              "<Figure size 432x288 with 1 Axes>"
            ]
          },
          "metadata": {
            "tags": [],
            "needs_background": "light"
          }
        }
      ]
    },
    {
      "cell_type": "markdown",
      "metadata": {
        "id": "EkgM5VWEvSGh",
        "colab_type": "text"
      },
      "source": [
        "* XGBoost also handles automatically of early stopping"
      ]
    },
    {
      "cell_type": "code",
      "metadata": {
        "id": "aL7zFUZRjula",
        "colab_type": "code",
        "colab": {
          "base_uri": "https://localhost:8080/",
          "height": 751
        },
        "outputId": "8936dec0-18b8-4ba0-8313-16f3bece1325"
      },
      "source": [
        "xgb_reg.fit(X_train,y_train,\n",
        "            eval_set = [(X_val,y_val)],early_stopping_rounds = 2)\n",
        "y_pred = xgb_reg.predict(X_val)"
      ],
      "execution_count": 91,
      "outputs": [
        {
          "output_type": "stream",
          "text": [
            "[06:38:05] WARNING: /workspace/src/objective/regression_obj.cu:152: reg:linear is now deprecated in favor of reg:squarederror.\n",
            "[0]\tvalidation_0-rmse:3.64958\n",
            "Will train until validation_0-rmse hasn't improved in 2 rounds.\n",
            "[1]\tvalidation_0-rmse:3.38889\n",
            "[2]\tvalidation_0-rmse:3.15685\n",
            "[3]\tvalidation_0-rmse:2.93402\n",
            "[4]\tvalidation_0-rmse:2.73569\n",
            "[5]\tvalidation_0-rmse:2.57379\n",
            "[6]\tvalidation_0-rmse:2.4059\n",
            "[7]\tvalidation_0-rmse:2.26403\n",
            "[8]\tvalidation_0-rmse:2.13713\n",
            "[9]\tvalidation_0-rmse:2.01954\n",
            "[10]\tvalidation_0-rmse:1.91902\n",
            "[11]\tvalidation_0-rmse:1.83565\n",
            "[12]\tvalidation_0-rmse:1.74769\n",
            "[13]\tvalidation_0-rmse:1.67422\n",
            "[14]\tvalidation_0-rmse:1.62149\n",
            "[15]\tvalidation_0-rmse:1.56743\n",
            "[16]\tvalidation_0-rmse:1.51688\n",
            "[17]\tvalidation_0-rmse:1.47908\n",
            "[18]\tvalidation_0-rmse:1.45002\n",
            "[19]\tvalidation_0-rmse:1.42261\n",
            "[20]\tvalidation_0-rmse:1.39204\n",
            "[21]\tvalidation_0-rmse:1.37232\n",
            "[22]\tvalidation_0-rmse:1.35318\n",
            "[23]\tvalidation_0-rmse:1.33872\n",
            "[24]\tvalidation_0-rmse:1.32695\n",
            "[25]\tvalidation_0-rmse:1.31628\n",
            "[26]\tvalidation_0-rmse:1.30522\n",
            "[27]\tvalidation_0-rmse:1.29759\n",
            "[28]\tvalidation_0-rmse:1.28906\n",
            "[29]\tvalidation_0-rmse:1.28436\n",
            "[30]\tvalidation_0-rmse:1.2786\n",
            "[31]\tvalidation_0-rmse:1.27277\n",
            "[32]\tvalidation_0-rmse:1.27029\n",
            "[33]\tvalidation_0-rmse:1.26414\n",
            "[34]\tvalidation_0-rmse:1.26033\n",
            "[35]\tvalidation_0-rmse:1.26137\n",
            "[36]\tvalidation_0-rmse:1.2622\n",
            "Stopping. Best iteration:\n",
            "[34]\tvalidation_0-rmse:1.26033\n",
            "\n"
          ],
          "name": "stdout"
        }
      ]
    },
    {
      "cell_type": "code",
      "metadata": {
        "id": "Kxv3Fv5PvRsG",
        "colab_type": "code",
        "colab": {
          "base_uri": "https://localhost:8080/",
          "height": 265
        },
        "outputId": "49917ddc-e3d2-4c07-f3a0-bcd693ecf3f2"
      },
      "source": [
        "plt.plot(X_val,y_val,'b.')\n",
        "plt.plot(X_val,y_pred,'r.')\n",
        "plt.show()"
      ],
      "execution_count": 92,
      "outputs": [
        {
          "output_type": "display_data",
          "data": {
            "image/png": "[encoded data removed]",
            "text/plain": [
              "<Figure size 432x288 with 1 Axes>"
            ]
          },
          "metadata": {
            "tags": [],
            "needs_background": "light"
          }
        }
      ]
    },
    {
      "cell_type": "code",
      "metadata": {
        "id": "77pZF--2vRps",
        "colab_type": "code",
        "colab": {}
      },
      "source": [
        ""
      ],
      "execution_count": null,
      "outputs": []
    },
    {
      "cell_type": "code",
      "metadata": {
        "id": "PBZ3ExCbvRnU",
        "colab_type": "code",
        "colab": {}
      },
      "source": [
        ""
      ],
      "execution_count": null,
      "outputs": []
    },
    {
      "cell_type": "code",
      "metadata": {
        "id": "OlPiKJdPvRkV",
        "colab_type": "code",
        "colab": {}
      },
      "source": [
        ""
      ],
      "execution_count": null,
      "outputs": []
    },
    {
      "cell_type": "code",
      "metadata": {
        "id": "AH87SxnovRh7",
        "colab_type": "code",
        "colab": {}
      },
      "source": [
        ""
      ],
      "execution_count": null,
      "outputs": []
    }
  ]
}